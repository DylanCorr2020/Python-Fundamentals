{
 "cells": [
  {
   "cell_type": "markdown",
   "id": "eb4e40d4",
   "metadata": {},
   "source": [
    "<h1> Python Fundamentals </h1>\n",
    "\n",
    "***"
   ]
  },
  {
   "cell_type": "markdown",
   "id": "657a2ead",
   "metadata": {},
   "source": [
    "<h1>Variables<h1>"
   ]
  },
  {
   "cell_type": "code",
   "execution_count": null,
   "id": "e9273d8f",
   "metadata": {},
   "outputs": [],
   "source": [
    "# Integer\n",
    "\n",
    "i = 1\n",
    "\n",
    "#character\n",
    "c = 'c'\n",
    "\n",
    "#string\n",
    "s = \"hello world!\"\n",
    "\n",
    "#boolean \n",
    "b = true"
   ]
  },
  {
   "cell_type": "code",
   "execution_count": 2,
   "id": "43d068f5",
   "metadata": {},
   "outputs": [
    {
     "data": {
      "text/plain": [
       "1"
      ]
     },
     "execution_count": 2,
     "metadata": {},
     "output_type": "execute_result"
    }
   ],
   "source": [
    "i"
   ]
  },
  {
   "cell_type": "code",
   "execution_count": 3,
   "id": "cfd2d617",
   "metadata": {},
   "outputs": [
    {
     "data": {
      "text/plain": [
       "int"
      ]
     },
     "execution_count": 3,
     "metadata": {},
     "output_type": "execute_result"
    }
   ],
   "source": [
    "type(i)"
   ]
  },
  {
   "cell_type": "code",
   "execution_count": 4,
   "id": "aa82968c",
   "metadata": {},
   "outputs": [
    {
     "data": {
      "text/plain": [
       "2"
      ]
     },
     "execution_count": 4,
     "metadata": {},
     "output_type": "execute_result"
    }
   ],
   "source": [
    "i + i"
   ]
  },
  {
   "cell_type": "code",
   "execution_count": 5,
   "id": "144e3050",
   "metadata": {},
   "outputs": [
    {
     "data": {
      "text/plain": [
       "'hello world!hello world!hello world!'"
      ]
     },
     "execution_count": 5,
     "metadata": {},
     "output_type": "execute_result"
    }
   ],
   "source": [
    "s * 3"
   ]
  },
  {
   "cell_type": "code",
   "execution_count": null,
   "id": "e10f94ca",
   "metadata": {},
   "outputs": [],
   "source": []
  },
  {
   "cell_type": "code",
   "execution_count": 9,
   "id": "ec4ca367",
   "metadata": {},
   "outputs": [
    {
     "name": "stdout",
     "output_type": "stream",
     "text": [
      "16 is even\n",
      "Another statement\n"
     ]
    }
   ],
   "source": [
    "i = 16\n",
    "\n",
    "\n",
    "if i < 0:\n",
    "   print(i,\"is negative\")\n",
    "elif i % 2 == 0:\n",
    "   print(i,\"is even\")\n",
    "   print(\"Another statement\")\n",
    "else:\n",
    "   print(i, \"is odd\")"
   ]
  },
  {
   "cell_type": "code",
   "execution_count": 12,
   "id": "c84da127",
   "metadata": {},
   "outputs": [
    {
     "name": "stdout",
     "output_type": "stream",
     "text": [
      "16 is even\n"
     ]
    }
   ],
   "source": [
    "if i < 0:\n",
    "    print(i, \"is negative\")\n",
    "else:\n",
    "    if i % 2 == 0:\n",
    "        print(i, \"is even\")\n",
    "    else:\n",
    "        print(i, \"is odd\")"
   ]
  },
  {
   "cell_type": "markdown",
   "id": "60d5b676",
   "metadata": {},
   "source": [
    "\n",
    "<br>\n",
    "\n",
    "<h1> Lists </h1>\n"
   ]
  },
  {
   "cell_type": "code",
   "execution_count": 14,
   "id": "f2ffff26",
   "metadata": {},
   "outputs": [
    {
     "name": "stdout",
     "output_type": "stream",
     "text": [
      "[1, 2, 3]\n"
     ]
    }
   ],
   "source": [
    "r = [1,2,3]\n",
    "\n",
    "print(r)"
   ]
  },
  {
   "cell_type": "markdown",
   "id": "068b9cd0",
   "metadata": {},
   "source": [
    "<h1> Iterations </h1>"
   ]
  },
  {
   "cell_type": "code",
   "execution_count": 17,
   "id": "71323750",
   "metadata": {},
   "outputs": [
    {
     "name": "stdout",
     "output_type": "stream",
     "text": [
      "1\n",
      "1\n",
      "2\n",
      "4\n",
      "3\n",
      "9\n",
      "Thats all folks!!\n"
     ]
    }
   ],
   "source": [
    "for item in r:\n",
    "    print(item)\n",
    "    print(item * item)\n",
    "    \n",
    "print(\"Thats all folks!!\")"
   ]
  },
  {
   "cell_type": "code",
   "execution_count": 18,
   "id": "a3b89dc0",
   "metadata": {},
   "outputs": [
    {
     "name": "stdout",
     "output_type": "stream",
     "text": [
      "10\n",
      "9\n",
      "8\n",
      "7\n",
      "6\n",
      "5\n",
      "4\n",
      "3\n",
      "2\n",
      "1\n"
     ]
    }
   ],
   "source": [
    "i = 10\n",
    "\n",
    "while i > 0:\n",
    "      print(i)\n",
    "      i = i - 1"
   ]
  },
  {
   "cell_type": "code",
   "execution_count": 20,
   "id": "458479e7",
   "metadata": {},
   "outputs": [
    {
     "data": {
      "text/plain": [
       "[0, 1, 2, 3, 4, 5, 6, 7, 8, 9]"
      ]
     },
     "execution_count": 20,
     "metadata": {},
     "output_type": "execute_result"
    }
   ],
   "source": [
    "list(range(10))"
   ]
  },
  {
   "cell_type": "code",
   "execution_count": 21,
   "id": "7fa5bc5a",
   "metadata": {},
   "outputs": [
    {
     "data": {
      "text/plain": [
       "[2, 5, 8]"
      ]
     },
     "execution_count": 21,
     "metadata": {},
     "output_type": "execute_result"
    }
   ],
   "source": [
    "#add 3 if its less then 10\n",
    "list(range(2,10,3))"
   ]
  },
  {
   "cell_type": "code",
   "execution_count": 22,
   "id": "be405a0b",
   "metadata": {},
   "outputs": [
    {
     "name": "stdout",
     "output_type": "stream",
     "text": [
      "10\n",
      "9\n",
      "8\n",
      "7\n",
      "6\n",
      "5\n",
      "4\n",
      "3\n",
      "2\n",
      "1\n"
     ]
    }
   ],
   "source": [
    "for i in range(10,0,-1):\n",
    "    print(i)"
   ]
  },
  {
   "cell_type": "markdown",
   "id": "2a80fb09",
   "metadata": {},
   "source": [
    "<br>\n",
    "\n",
    "##Functions\n",
    "\n",
    "***"
   ]
  },
  {
   "cell_type": "code",
   "execution_count": 23,
   "id": "a2cdd7f5",
   "metadata": {},
   "outputs": [],
   "source": [
    "def sqaure(i):\n",
    "    return i * i"
   ]
  },
  {
   "cell_type": "code",
   "execution_count": 24,
   "id": "fdcc4748",
   "metadata": {},
   "outputs": [
    {
     "data": {
      "text/plain": [
       "81"
      ]
     },
     "execution_count": 24,
     "metadata": {},
     "output_type": "execute_result"
    }
   ],
   "source": [
    "sqaure(9)"
   ]
  },
  {
   "cell_type": "code",
   "execution_count": 25,
   "id": "2c54cbba",
   "metadata": {},
   "outputs": [],
   "source": [
    "def power(i,j=2):\n",
    "    result = 1\n",
    "    for k in range(j):\n",
    "        result = result * i\n",
    "    return result"
   ]
  },
  {
   "cell_type": "code",
   "execution_count": 26,
   "id": "94f62211",
   "metadata": {},
   "outputs": [
    {
     "data": {
      "text/plain": [
       "81"
      ]
     },
     "execution_count": 26,
     "metadata": {},
     "output_type": "execute_result"
    }
   ],
   "source": [
    "power(9)"
   ]
  },
  {
   "cell_type": "code",
   "execution_count": 28,
   "id": "41ab986e",
   "metadata": {},
   "outputs": [
    {
     "data": {
      "text/plain": [
       "[1, 9, 25, 49, 81]"
      ]
     },
     "execution_count": 28,
     "metadata": {},
     "output_type": "execute_result"
    }
   ],
   "source": [
    "#list comprehensions\n",
    "[i * i for i in range(10) if i*i %2 == 1]"
   ]
  },
  {
   "cell_type": "code",
   "execution_count": null,
   "id": "1a296439",
   "metadata": {},
   "outputs": [],
   "source": []
  }
 ],
 "metadata": {
  "kernelspec": {
   "display_name": "Python 3 (ipykernel)",
   "language": "python",
   "name": "python3"
  },
  "language_info": {
   "codemirror_mode": {
    "name": "ipython",
    "version": 3
   },
   "file_extension": ".py",
   "mimetype": "text/x-python",
   "name": "python",
   "nbconvert_exporter": "python",
   "pygments_lexer": "ipython3",
   "version": "3.9.7"
  }
 },
 "nbformat": 4,
 "nbformat_minor": 5
}
